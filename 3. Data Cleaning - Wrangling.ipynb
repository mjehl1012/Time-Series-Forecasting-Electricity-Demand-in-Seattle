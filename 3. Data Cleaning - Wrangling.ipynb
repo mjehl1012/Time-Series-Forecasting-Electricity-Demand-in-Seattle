{
 "cells": [
  {
   "cell_type": "code",
   "execution_count": 1,
   "id": "computational-ontario",
   "metadata": {},
   "outputs": [],
   "source": [
    "import pandas as pd\n",
    "import numpy as np\n",
    "\n",
    "\n",
    "import pickle\n",
    "\n",
    "from utilities import PrecipFix, WindDirection"
   ]
  },
  {
   "cell_type": "code",
   "execution_count": 2,
   "id": "dense-balance",
   "metadata": {},
   "outputs": [],
   "source": [
    "df = pickle.load( open( \"seattle_data.pkl\", \"rb\" ) )"
   ]
  },
  {
   "cell_type": "code",
   "execution_count": null,
   "id": "arctic-correction",
   "metadata": {},
   "outputs": [],
   "source": [
    "df.head()"
   ]
  },
  {
   "cell_type": "code",
   "execution_count": null,
   "id": "loving-factory",
   "metadata": {},
   "outputs": [],
   "source": [
    "df[df.RECORDING_COUNT != 24]"
   ]
  },
  {
   "cell_type": "code",
   "execution_count": null,
   "id": "electronic-version",
   "metadata": {},
   "outputs": [],
   "source": [
    "df.dropna(axis='columns',how='all', inplace=True)"
   ]
  },
  {
   "cell_type": "code",
   "execution_count": null,
   "id": "particular-biography",
   "metadata": {},
   "outputs": [],
   "source": [
    "df.columns.tolist()"
   ]
  },
  {
   "cell_type": "code",
   "execution_count": null,
   "id": "faced-monitor",
   "metadata": {},
   "outputs": [],
   "source": [
    "df.drop(columns=['REM', 'REPORT_TYPE.1', 'SOURCE.1', 'WindEquipmentChangeDate', 'RECORDING_COUNT', 'REPORT_TYPE', 'SOURCE'], inplace=True)"
   ]
  },
  {
   "cell_type": "code",
   "execution_count": null,
   "id": "drawn-appliance",
   "metadata": {},
   "outputs": [],
   "source": [
    "df.head()"
   ]
  },
  {
   "cell_type": "markdown",
   "id": "distant-baking",
   "metadata": {},
   "source": [
    "**Drop columns with lots of missing values**"
   ]
  },
  {
   "cell_type": "code",
   "execution_count": null,
   "id": "proprietary-commission",
   "metadata": {},
   "outputs": [],
   "source": [
    "df.drop(columns=df.columns[df.isna().sum() > 30000], inplace=True)"
   ]
  },
  {
   "cell_type": "code",
   "execution_count": null,
   "id": "limited-bedroom",
   "metadata": {
    "scrolled": true
   },
   "outputs": [],
   "source": [
    "df"
   ]
  },
  {
   "cell_type": "markdown",
   "id": "directed-concert",
   "metadata": {},
   "source": [
    "**Second pass at columns with missing values**"
   ]
  },
  {
   "cell_type": "code",
   "execution_count": null,
   "id": "nutritional-chair",
   "metadata": {
    "scrolled": false
   },
   "outputs": [],
   "source": [
    "df.isna().sum()"
   ]
  },
  {
   "cell_type": "code",
   "execution_count": null,
   "id": "suspected-reduction",
   "metadata": {
    "scrolled": true
   },
   "outputs": [],
   "source": [
    "df.HourlyStationPressure.value_counts()"
   ]
  },
  {
   "cell_type": "markdown",
   "id": "flying-monitoring",
   "metadata": {},
   "source": [
    "**Remove irrelevant or redundant columns**"
   ]
  },
  {
   "cell_type": "code",
   "execution_count": null,
   "id": "minus-messaging",
   "metadata": {},
   "outputs": [],
   "source": [
    "df.drop(columns=['STATION', 'HourlyAltimeterSetting', 'HourlyDewPointTemperature', 'HourlySeaLevelPressure', 'HourlyWetBulbTemperature'], inplace=True)"
   ]
  },
  {
   "cell_type": "code",
   "execution_count": null,
   "id": "heated-hacker",
   "metadata": {},
   "outputs": [],
   "source": [
    "df.isna().sum()"
   ]
  },
  {
   "cell_type": "markdown",
   "id": "general-notification",
   "metadata": {},
   "source": [
    "**Explore SkyConditions column**"
   ]
  },
  {
   "cell_type": "code",
   "execution_count": null,
   "id": "fifty-brooks",
   "metadata": {},
   "outputs": [],
   "source": [
    "df.HourlySkyConditions = df.HourlySkyConditions.apply(lambda x: str(x)[:3])"
   ]
  },
  {
   "cell_type": "code",
   "execution_count": null,
   "id": "conceptual-efficiency",
   "metadata": {},
   "outputs": [],
   "source": [
    "df.HourlySkyConditions.value_counts()"
   ]
  },
  {
   "cell_type": "code",
   "execution_count": null,
   "id": "adapted-receipt",
   "metadata": {},
   "outputs": [],
   "source": [
    "df.loc[df.HourlySkyConditions == '*']"
   ]
  },
  {
   "cell_type": "markdown",
   "id": "informal-sitting",
   "metadata": {},
   "source": [
    "**just fill forward, commonly used in time series**"
   ]
  },
  {
   "cell_type": "code",
   "execution_count": null,
   "id": "turned-driver",
   "metadata": {},
   "outputs": [],
   "source": [
    "df.fillna(method='ffill', inplace=True)"
   ]
  },
  {
   "cell_type": "code",
   "execution_count": null,
   "id": "objective-fundamental",
   "metadata": {},
   "outputs": [],
   "source": [
    "df.isna().sum()"
   ]
  },
  {
   "cell_type": "markdown",
   "id": "attempted-missouri",
   "metadata": {},
   "source": [
    "**Fix remaining sky conditions**"
   ]
  },
  {
   "cell_type": "code",
   "execution_count": null,
   "id": "statewide-police",
   "metadata": {},
   "outputs": [],
   "source": [
    "df.loc[df.HourlySkyConditions == '*']"
   ]
  },
  {
   "cell_type": "code",
   "execution_count": null,
   "id": "outside-belle",
   "metadata": {},
   "outputs": [],
   "source": [
    "df.HourlySkyConditions.iloc[40180:40187]"
   ]
  },
  {
   "cell_type": "code",
   "execution_count": null,
   "id": "detailed-thickness",
   "metadata": {},
   "outputs": [],
   "source": [
    "df.HourlySkyConditions.iloc[40184] = 'OVC'"
   ]
  },
  {
   "cell_type": "code",
   "execution_count": null,
   "id": "cubic-helicopter",
   "metadata": {},
   "outputs": [],
   "source": [
    "df.loc[df.HourlySkyConditions == '*']"
   ]
  },
  {
   "cell_type": "code",
   "execution_count": null,
   "id": "found-speech",
   "metadata": {},
   "outputs": [],
   "source": [
    "for column in df.columns:\n",
    "    print(df[column].value_counts())"
   ]
  },
  {
   "cell_type": "markdown",
   "id": "delayed-center",
   "metadata": {},
   "source": [
    "**Fix Temperature**"
   ]
  },
  {
   "cell_type": "code",
   "execution_count": null,
   "id": "nuclear-protest",
   "metadata": {},
   "outputs": [],
   "source": [
    "df.replace('*',np.NaN, inplace=True)"
   ]
  },
  {
   "cell_type": "code",
   "execution_count": null,
   "id": "spiritual-router",
   "metadata": {},
   "outputs": [],
   "source": [
    "df.isna().sum()"
   ]
  },
  {
   "cell_type": "code",
   "execution_count": null,
   "id": "mysterious-clerk",
   "metadata": {},
   "outputs": [],
   "source": [
    "df.fillna(method='ffill', inplace=True)"
   ]
  },
  {
   "cell_type": "code",
   "execution_count": null,
   "id": "scientific-holmes",
   "metadata": {},
   "outputs": [],
   "source": [
    "df.isna().sum()"
   ]
  },
  {
   "cell_type": "code",
   "execution_count": null,
   "id": "induced-space",
   "metadata": {},
   "outputs": [],
   "source": [
    "df.HourlyDryBulbTemperature = df.HourlyDryBulbTemperature.apply(lambda x: PrecipFix(x))"
   ]
  },
  {
   "cell_type": "code",
   "execution_count": null,
   "id": "exposed-heating",
   "metadata": {},
   "outputs": [],
   "source": [
    "df.HourlyDryBulbTemperature.value_counts()"
   ]
  },
  {
   "cell_type": "markdown",
   "id": "oriented-hearing",
   "metadata": {},
   "source": [
    "**Fix Precipitation**"
   ]
  },
  {
   "cell_type": "code",
   "execution_count": null,
   "id": "angry-knock",
   "metadata": {},
   "outputs": [],
   "source": [
    "df.HourlyPrecipitation = df.HourlyPrecipitation.apply(lambda x: PrecipFix(x))"
   ]
  },
  {
   "cell_type": "code",
   "execution_count": null,
   "id": "vietnamese-bracket",
   "metadata": {},
   "outputs": [],
   "source": [
    "df.HourlyPrecipitation.value_counts()"
   ]
  },
  {
   "cell_type": "markdown",
   "id": "welsh-print",
   "metadata": {},
   "source": [
    "**Fix RH**"
   ]
  },
  {
   "cell_type": "code",
   "execution_count": null,
   "id": "proved-mistake",
   "metadata": {},
   "outputs": [],
   "source": [
    "df.HourlyRelativeHumidity = df.HourlyRelativeHumidity.apply(lambda x: PrecipFix(x))"
   ]
  },
  {
   "cell_type": "code",
   "execution_count": null,
   "id": "exciting-cancellation",
   "metadata": {},
   "outputs": [],
   "source": [
    "df.HourlyRelativeHumidity.value_counts()"
   ]
  },
  {
   "cell_type": "markdown",
   "id": "pending-occupation",
   "metadata": {},
   "source": [
    "**Fix sky conditions**"
   ]
  },
  {
   "cell_type": "code",
   "execution_count": null,
   "id": "introductory-controversy",
   "metadata": {},
   "outputs": [],
   "source": [
    "df.HourlySkyConditions.value_counts()"
   ]
  },
  {
   "cell_type": "code",
   "execution_count": null,
   "id": "radio-homework",
   "metadata": {},
   "outputs": [],
   "source": [
    "df.HourlySkyConditions.replace('VV:', 'VV', inplace=True)"
   ]
  },
  {
   "cell_type": "code",
   "execution_count": null,
   "id": "defensive-mileage",
   "metadata": {},
   "outputs": [],
   "source": [
    "df.HourlySkyConditions.replace('nan', np.NaN, inplace=True)"
   ]
  },
  {
   "cell_type": "code",
   "execution_count": null,
   "id": "exact-bench",
   "metadata": {},
   "outputs": [],
   "source": [
    "df.fillna(method='ffill', inplace=True)"
   ]
  },
  {
   "cell_type": "markdown",
   "id": "revised-peoples",
   "metadata": {},
   "source": [
    "**Fix station pressure**"
   ]
  },
  {
   "cell_type": "code",
   "execution_count": null,
   "id": "brown-clock",
   "metadata": {},
   "outputs": [],
   "source": [
    "df.HourlyStationPressure.value_counts()"
   ]
  },
  {
   "cell_type": "code",
   "execution_count": null,
   "id": "australian-thinking",
   "metadata": {},
   "outputs": [],
   "source": [
    "df.HourlyStationPressure = df.HourlyStationPressure.apply(lambda x: PrecipFix(x))"
   ]
  },
  {
   "cell_type": "markdown",
   "id": "executed-august",
   "metadata": {},
   "source": [
    "**Fix Visibility**"
   ]
  },
  {
   "cell_type": "code",
   "execution_count": null,
   "id": "reliable-transcript",
   "metadata": {},
   "outputs": [],
   "source": [
    "df.HourlyVisibility.replace('*', np.NaN, inplace=True)"
   ]
  },
  {
   "cell_type": "code",
   "execution_count": null,
   "id": "severe-mozambique",
   "metadata": {},
   "outputs": [],
   "source": [
    "df.fillna(method='ffill', inplace=True)"
   ]
  },
  {
   "cell_type": "code",
   "execution_count": null,
   "id": "daily-needle",
   "metadata": {},
   "outputs": [],
   "source": [
    "df.HourlyVisibility.value_counts()"
   ]
  },
  {
   "cell_type": "code",
   "execution_count": 6,
   "id": "governing-apparatus",
   "metadata": {},
   "outputs": [],
   "source": [
    "df.HourlyVisibility = df.HourlyVisibility.apply(lambda x: PrecipFix(x))"
   ]
  },
  {
   "cell_type": "code",
   "execution_count": 7,
   "id": "sufficient-costs",
   "metadata": {},
   "outputs": [
    {
     "name": "stdout",
     "output_type": "stream",
     "text": [
      "2015-12-02 19:53:00    1\n",
      "2015-08-23 16:53:00    1\n",
      "2018-03-13 06:53:00    1\n",
      "2019-10-06 13:53:00    1\n",
      "2018-01-13 06:53:00    1\n",
      "                      ..\n",
      "2016-10-22 12:53:00    1\n",
      "2019-08-21 18:53:00    1\n",
      "2018-08-19 23:53:00    1\n",
      "2017-08-07 19:53:00    1\n",
      "2016-01-02 08:53:00    1\n",
      "Name: DATE, Length: 47424, dtype: int64\n",
      "45.0    1743\n",
      "46.0    1694\n",
      "48.0    1660\n",
      "50.0    1633\n",
      "47.0    1467\n",
      "        ... \n",
      "97.0       3\n",
      "96.0       3\n",
      "17.0       1\n",
      "16.0       1\n",
      "15.0       1\n",
      "Name: HourlyDryBulbTemperature, Length: 83, dtype: int64\n",
      "0.00    43045\n",
      "0.01     1584\n",
      "0.02      804\n",
      "0.03      519\n",
      "0.04      341\n",
      "0.05      258\n",
      "0.06      208\n",
      "0.07      135\n",
      "0.08      128\n",
      "0.09       88\n",
      "0.10       77\n",
      "0.11       55\n",
      "0.12       44\n",
      "0.13       31\n",
      "0.14       27\n",
      "0.15       14\n",
      "0.18       13\n",
      "0.16       10\n",
      "0.19        8\n",
      "0.17        8\n",
      "0.20        6\n",
      "0.22        4\n",
      "0.24        4\n",
      "0.25        3\n",
      "0.27        3\n",
      "0.26        2\n",
      "0.23        2\n",
      "1.04        2\n",
      "0.21        1\n",
      "Name: HourlyPrecipitation, dtype: int64\n",
      "93.0    2342\n",
      "89.0    2079\n",
      "86.0    2027\n",
      "83.0    2003\n",
      "77.0    1633\n",
      "        ... \n",
      "12.0       6\n",
      "11.0       5\n",
      "13.0       3\n",
      "91.0       3\n",
      "10.0       1\n",
      "Name: HourlyRelativeHumidity, Length: 88, dtype: int64\n",
      "CLR    11852\n",
      "BKN     9738\n",
      "SCT     9714\n",
      "FEW     8477\n",
      "OVC     7371\n",
      "VV       272\n",
      "Name: HourlySkyConditions, dtype: int64\n",
      "30.02    1117\n",
      "30.05    1100\n",
      "30.06    1097\n",
      "29.99    1087\n",
      "29.97    1080\n",
      "         ... \n",
      "29.07       4\n",
      "29.10       4\n",
      "29.08       4\n",
      "30.65       2\n",
      "29.14       2\n",
      "Name: HourlyStationPressure, Length: 158, dtype: int64\n",
      "10.00    41342\n",
      "6.00       863\n",
      "7.00       839\n",
      "8.00       754\n",
      "5.00       708\n",
      "9.00       702\n",
      "4.00       567\n",
      "3.00       492\n",
      "2.00       283\n",
      "2.50       203\n",
      "0.25       151\n",
      "1.00       100\n",
      "1.50        98\n",
      "1.75        92\n",
      "0.50        71\n",
      "1.25        66\n",
      "0.75        54\n",
      "0.00        27\n",
      "0.12        12\n",
      "Name: HourlyVisibility, dtype: int64\n",
      "South       17608\n",
      "Calm        11535\n",
      "Variable     5570\n",
      "West         4684\n",
      "North        4396\n",
      "East         3631\n",
      "Name: HourlyWindDirection, dtype: int64\n",
      "0.0     9017\n",
      "3.0     5170\n",
      "5.0     5039\n",
      "6.0     4635\n",
      "7.0     4062\n",
      "8.0     3219\n",
      "0       2518\n",
      "9.0     2424\n",
      "10.0    1544\n",
      "11.0    1228\n",
      "3       1180\n",
      "5       1129\n",
      "6       1027\n",
      "7        876\n",
      "13.0     730\n",
      "8        686\n",
      "9        527\n",
      "14.0     459\n",
      "10       343\n",
      "15.0     323\n",
      "11       218\n",
      "16.0     212\n",
      "13       164\n",
      "17.0     142\n",
      "14       104\n",
      "18.0      82\n",
      "15        75\n",
      "16        57\n",
      "20.0      48\n",
      "17        35\n",
      "21.0      35\n",
      "22.0      26\n",
      "18        22\n",
      "20        11\n",
      "23.0       9\n",
      "21         7\n",
      "33s        7\n",
      "22         6\n",
      "25.0       5\n",
      "24.0       5\n",
      "25         4\n",
      "28.0       4\n",
      "23         3\n",
      "29.0       2\n",
      "26.0       2\n",
      "25s        1\n",
      "31.0       1\n",
      "30.0       1\n",
      "Name: HourlyWindSpeed, dtype: int64\n",
      "2018-11-19    24\n",
      "2020-01-06    24\n",
      "2019-08-29    24\n",
      "2019-01-23    24\n",
      "2018-10-24    24\n",
      "              ..\n",
      "2016-03-27    24\n",
      "2015-09-16    24\n",
      "2017-04-25    24\n",
      "2015-08-18    24\n",
      "2020-08-05    24\n",
      "Name: SHORTDATE, Length: 1976, dtype: int64\n",
      "1097.0     115\n",
      "1050.0     115\n",
      "1103.0     115\n",
      "1034.0     114\n",
      "1022.0     114\n",
      "          ... \n",
      "11174.0      1\n",
      "171.0        1\n",
      "394.0        1\n",
      "1748.0       1\n",
      "600.0        1\n",
      "Name: DEMAND, Length: 1144, dtype: int64\n"
     ]
    }
   ],
   "source": [
    "for column in df.columns:\n",
    "    print(df[column].value_counts())"
   ]
  },
  {
   "cell_type": "markdown",
   "id": "durable-toronto",
   "metadata": {},
   "source": [
    "**Fix Wind Direction**"
   ]
  },
  {
   "cell_type": "code",
   "execution_count": 3,
   "id": "choice-graphic",
   "metadata": {},
   "outputs": [],
   "source": [
    "df.HourlyWindDirection = df.HourlyWindDirection.apply(lambda x: WindDirection(x))"
   ]
  },
  {
   "cell_type": "code",
   "execution_count": 4,
   "id": "protective-curve",
   "metadata": {},
   "outputs": [
    {
     "data": {
      "text/plain": [
       "South       17608\n",
       "Calm        11535\n",
       "Variable     5570\n",
       "West         4684\n",
       "North        4396\n",
       "East         3631\n",
       "Name: HourlyWindDirection, dtype: int64"
      ]
     },
     "execution_count": 4,
     "metadata": {},
     "output_type": "execute_result"
    }
   ],
   "source": [
    "df.HourlyWindDirection.value_counts()"
   ]
  },
  {
   "cell_type": "markdown",
   "id": "infectious-spanish",
   "metadata": {},
   "source": [
    "**Fix Wind Speed**"
   ]
  },
  {
   "cell_type": "code",
   "execution_count": 8,
   "id": "frozen-green",
   "metadata": {},
   "outputs": [],
   "source": [
    "df.HourlyWindSpeed = df.HourlyWindSpeed.apply(lambda x: PrecipFix(x))"
   ]
  },
  {
   "cell_type": "code",
   "execution_count": 9,
   "id": "novel-collective",
   "metadata": {},
   "outputs": [
    {
     "data": {
      "text/plain": [
       "0.0     11535\n",
       "3.0      6350\n",
       "5.0      6168\n",
       "6.0      5662\n",
       "7.0      4938\n",
       "8.0      3905\n",
       "9.0      2951\n",
       "10.0     1887\n",
       "11.0     1446\n",
       "13.0      894\n",
       "14.0      563\n",
       "15.0      398\n",
       "16.0      269\n",
       "17.0      177\n",
       "18.0      104\n",
       "20.0       59\n",
       "21.0       42\n",
       "22.0       32\n",
       "23.0       12\n",
       "25.0       10\n",
       "33.0        7\n",
       "24.0        5\n",
       "28.0        4\n",
       "26.0        2\n",
       "29.0        2\n",
       "30.0        1\n",
       "31.0        1\n",
       "Name: HourlyWindSpeed, dtype: int64"
      ]
     },
     "execution_count": 9,
     "metadata": {},
     "output_type": "execute_result"
    }
   ],
   "source": [
    "df.HourlyWindSpeed.value_counts()"
   ]
  },
  {
   "cell_type": "code",
   "execution_count": 10,
   "id": "amber-collectible",
   "metadata": {},
   "outputs": [],
   "source": [
    "with open(\"seattle_data.pkl\", 'wb') as picklefile:\n",
    "    pickle.dump(df, picklefile)"
   ]
  },
  {
   "cell_type": "code",
   "execution_count": 12,
   "id": "accepting-dairy",
   "metadata": {},
   "outputs": [
    {
     "data": {
      "text/plain": [
       "DATE                        0\n",
       "HourlyDryBulbTemperature    0\n",
       "HourlyPrecipitation         0\n",
       "HourlyRelativeHumidity      0\n",
       "HourlySkyConditions         0\n",
       "HourlyStationPressure       0\n",
       "HourlyVisibility            0\n",
       "HourlyWindDirection         0\n",
       "HourlyWindSpeed             0\n",
       "SHORTDATE                   0\n",
       "DEMAND                      0\n",
       "dtype: int64"
      ]
     },
     "execution_count": 12,
     "metadata": {},
     "output_type": "execute_result"
    }
   ],
   "source": [
    "df.isna().sum()"
   ]
  },
  {
   "cell_type": "code",
   "execution_count": 14,
   "id": "unlikely-limitation",
   "metadata": {},
   "outputs": [],
   "source": [
    "df.rename(columns={'HourlyDryBulbTemperature':'Temperature', 'HourlyPrecipitation':'Precipitation', 'HourlyRelativeHumidity':'Humidity', 'HourlySkyConditions':'Condition', 'HourlyStationPressure':'Pressure', 'HourlyVisibility':'Visibility', 'HourlyWindDirection':'WindDirection', 'HourlyWindSpeed':'WindSpeed'}, inplace=True)"
   ]
  },
  {
   "cell_type": "code",
   "execution_count": 15,
   "id": "adopted-asian",
   "metadata": {},
   "outputs": [
    {
     "data": {
      "text/html": [
       "<div>\n",
       "<style scoped>\n",
       "    .dataframe tbody tr th:only-of-type {\n",
       "        vertical-align: middle;\n",
       "    }\n",
       "\n",
       "    .dataframe tbody tr th {\n",
       "        vertical-align: top;\n",
       "    }\n",
       "\n",
       "    .dataframe thead th {\n",
       "        text-align: right;\n",
       "    }\n",
       "</style>\n",
       "<table border=\"1\" class=\"dataframe\">\n",
       "  <thead>\n",
       "    <tr style=\"text-align: right;\">\n",
       "      <th></th>\n",
       "      <th>DATE</th>\n",
       "      <th>Temperature</th>\n",
       "      <th>Precipitation</th>\n",
       "      <th>Humidity</th>\n",
       "      <th>Condition</th>\n",
       "      <th>Pressure</th>\n",
       "      <th>Visibility</th>\n",
       "      <th>WindDirection</th>\n",
       "      <th>WindSpeed</th>\n",
       "      <th>SHORTDATE</th>\n",
       "      <th>DEMAND</th>\n",
       "    </tr>\n",
       "  </thead>\n",
       "  <tbody>\n",
       "    <tr>\n",
       "      <th>0</th>\n",
       "      <td>2015-07-02 00:53:00</td>\n",
       "      <td>74.0</td>\n",
       "      <td>0.0</td>\n",
       "      <td>48.0</td>\n",
       "      <td>CLR</td>\n",
       "      <td>29.94</td>\n",
       "      <td>10.0</td>\n",
       "      <td>Calm</td>\n",
       "      <td>0.0</td>\n",
       "      <td>2015-07-02</td>\n",
       "      <td>1282.0</td>\n",
       "    </tr>\n",
       "    <tr>\n",
       "      <th>1</th>\n",
       "      <td>2015-07-02 01:53:00</td>\n",
       "      <td>72.0</td>\n",
       "      <td>0.0</td>\n",
       "      <td>53.0</td>\n",
       "      <td>CLR</td>\n",
       "      <td>29.94</td>\n",
       "      <td>10.0</td>\n",
       "      <td>Variable</td>\n",
       "      <td>3.0</td>\n",
       "      <td>2015-07-02</td>\n",
       "      <td>1277.0</td>\n",
       "    </tr>\n",
       "    <tr>\n",
       "      <th>2</th>\n",
       "      <td>2015-07-02 02:53:00</td>\n",
       "      <td>70.0</td>\n",
       "      <td>0.0</td>\n",
       "      <td>55.0</td>\n",
       "      <td>CLR</td>\n",
       "      <td>29.95</td>\n",
       "      <td>10.0</td>\n",
       "      <td>North</td>\n",
       "      <td>3.0</td>\n",
       "      <td>2015-07-02</td>\n",
       "      <td>1226.0</td>\n",
       "    </tr>\n",
       "    <tr>\n",
       "      <th>3</th>\n",
       "      <td>2015-07-02 03:53:00</td>\n",
       "      <td>68.0</td>\n",
       "      <td>0.0</td>\n",
       "      <td>59.0</td>\n",
       "      <td>CLR</td>\n",
       "      <td>29.96</td>\n",
       "      <td>10.0</td>\n",
       "      <td>Calm</td>\n",
       "      <td>0.0</td>\n",
       "      <td>2015-07-02</td>\n",
       "      <td>1186.0</td>\n",
       "    </tr>\n",
       "    <tr>\n",
       "      <th>4</th>\n",
       "      <td>2015-07-02 04:53:00</td>\n",
       "      <td>68.0</td>\n",
       "      <td>0.0</td>\n",
       "      <td>61.0</td>\n",
       "      <td>CLR</td>\n",
       "      <td>29.97</td>\n",
       "      <td>10.0</td>\n",
       "      <td>West</td>\n",
       "      <td>3.0</td>\n",
       "      <td>2015-07-02</td>\n",
       "      <td>1157.0</td>\n",
       "    </tr>\n",
       "  </tbody>\n",
       "</table>\n",
       "</div>"
      ],
      "text/plain": [
       "                 DATE  Temperature  Precipitation  Humidity Condition  \\\n",
       "0 2015-07-02 00:53:00         74.0            0.0      48.0       CLR   \n",
       "1 2015-07-02 01:53:00         72.0            0.0      53.0       CLR   \n",
       "2 2015-07-02 02:53:00         70.0            0.0      55.0       CLR   \n",
       "3 2015-07-02 03:53:00         68.0            0.0      59.0       CLR   \n",
       "4 2015-07-02 04:53:00         68.0            0.0      61.0       CLR   \n",
       "\n",
       "   Pressure  Visibility WindDirection  WindSpeed   SHORTDATE  DEMAND  \n",
       "0     29.94        10.0          Calm        0.0  2015-07-02  1282.0  \n",
       "1     29.94        10.0      Variable        3.0  2015-07-02  1277.0  \n",
       "2     29.95        10.0         North        3.0  2015-07-02  1226.0  \n",
       "3     29.96        10.0          Calm        0.0  2015-07-02  1186.0  \n",
       "4     29.97        10.0          West        3.0  2015-07-02  1157.0  "
      ]
     },
     "execution_count": 15,
     "metadata": {},
     "output_type": "execute_result"
    }
   ],
   "source": [
    "df.head()"
   ]
  },
  {
   "cell_type": "code",
   "execution_count": 16,
   "id": "ecological-miller",
   "metadata": {},
   "outputs": [
    {
     "data": {
      "text/plain": [
       "Index(['DATE', 'Temperature', 'Precipitation', 'Humidity', 'Condition',\n",
       "       'Pressure', 'Visibility', 'WindDirection', 'WindSpeed', 'SHORTDATE',\n",
       "       'DEMAND'],\n",
       "      dtype='object')"
      ]
     },
     "execution_count": 16,
     "metadata": {},
     "output_type": "execute_result"
    }
   ],
   "source": [
    "df.columns"
   ]
  },
  {
   "cell_type": "code",
   "execution_count": 17,
   "id": "french-british",
   "metadata": {},
   "outputs": [],
   "source": [
    "cols = ['DATE','SHORTDATE', 'Temperature', 'Precipitation', 'Humidity', 'Condition',\n",
    "       'Pressure', 'Visibility', 'WindDirection', 'WindSpeed',\n",
    "       'DEMAND']\n",
    "df = df[cols]\n"
   ]
  },
  {
   "cell_type": "code",
   "execution_count": 18,
   "id": "realistic-tract",
   "metadata": {},
   "outputs": [
    {
     "data": {
      "text/html": [
       "<div>\n",
       "<style scoped>\n",
       "    .dataframe tbody tr th:only-of-type {\n",
       "        vertical-align: middle;\n",
       "    }\n",
       "\n",
       "    .dataframe tbody tr th {\n",
       "        vertical-align: top;\n",
       "    }\n",
       "\n",
       "    .dataframe thead th {\n",
       "        text-align: right;\n",
       "    }\n",
       "</style>\n",
       "<table border=\"1\" class=\"dataframe\">\n",
       "  <thead>\n",
       "    <tr style=\"text-align: right;\">\n",
       "      <th></th>\n",
       "      <th>DATE</th>\n",
       "      <th>SHORTDATE</th>\n",
       "      <th>Temperature</th>\n",
       "      <th>Precipitation</th>\n",
       "      <th>Humidity</th>\n",
       "      <th>Condition</th>\n",
       "      <th>Pressure</th>\n",
       "      <th>Visibility</th>\n",
       "      <th>WindDirection</th>\n",
       "      <th>WindSpeed</th>\n",
       "      <th>DEMAND</th>\n",
       "    </tr>\n",
       "  </thead>\n",
       "  <tbody>\n",
       "    <tr>\n",
       "      <th>0</th>\n",
       "      <td>2015-07-02 00:53:00</td>\n",
       "      <td>2015-07-02</td>\n",
       "      <td>74.0</td>\n",
       "      <td>0.0</td>\n",
       "      <td>48.0</td>\n",
       "      <td>CLR</td>\n",
       "      <td>29.94</td>\n",
       "      <td>10.0</td>\n",
       "      <td>Calm</td>\n",
       "      <td>0.0</td>\n",
       "      <td>1282.0</td>\n",
       "    </tr>\n",
       "    <tr>\n",
       "      <th>1</th>\n",
       "      <td>2015-07-02 01:53:00</td>\n",
       "      <td>2015-07-02</td>\n",
       "      <td>72.0</td>\n",
       "      <td>0.0</td>\n",
       "      <td>53.0</td>\n",
       "      <td>CLR</td>\n",
       "      <td>29.94</td>\n",
       "      <td>10.0</td>\n",
       "      <td>Variable</td>\n",
       "      <td>3.0</td>\n",
       "      <td>1277.0</td>\n",
       "    </tr>\n",
       "    <tr>\n",
       "      <th>2</th>\n",
       "      <td>2015-07-02 02:53:00</td>\n",
       "      <td>2015-07-02</td>\n",
       "      <td>70.0</td>\n",
       "      <td>0.0</td>\n",
       "      <td>55.0</td>\n",
       "      <td>CLR</td>\n",
       "      <td>29.95</td>\n",
       "      <td>10.0</td>\n",
       "      <td>North</td>\n",
       "      <td>3.0</td>\n",
       "      <td>1226.0</td>\n",
       "    </tr>\n",
       "    <tr>\n",
       "      <th>3</th>\n",
       "      <td>2015-07-02 03:53:00</td>\n",
       "      <td>2015-07-02</td>\n",
       "      <td>68.0</td>\n",
       "      <td>0.0</td>\n",
       "      <td>59.0</td>\n",
       "      <td>CLR</td>\n",
       "      <td>29.96</td>\n",
       "      <td>10.0</td>\n",
       "      <td>Calm</td>\n",
       "      <td>0.0</td>\n",
       "      <td>1186.0</td>\n",
       "    </tr>\n",
       "    <tr>\n",
       "      <th>4</th>\n",
       "      <td>2015-07-02 04:53:00</td>\n",
       "      <td>2015-07-02</td>\n",
       "      <td>68.0</td>\n",
       "      <td>0.0</td>\n",
       "      <td>61.0</td>\n",
       "      <td>CLR</td>\n",
       "      <td>29.97</td>\n",
       "      <td>10.0</td>\n",
       "      <td>West</td>\n",
       "      <td>3.0</td>\n",
       "      <td>1157.0</td>\n",
       "    </tr>\n",
       "  </tbody>\n",
       "</table>\n",
       "</div>"
      ],
      "text/plain": [
       "                 DATE   SHORTDATE  Temperature  Precipitation  Humidity  \\\n",
       "0 2015-07-02 00:53:00  2015-07-02         74.0            0.0      48.0   \n",
       "1 2015-07-02 01:53:00  2015-07-02         72.0            0.0      53.0   \n",
       "2 2015-07-02 02:53:00  2015-07-02         70.0            0.0      55.0   \n",
       "3 2015-07-02 03:53:00  2015-07-02         68.0            0.0      59.0   \n",
       "4 2015-07-02 04:53:00  2015-07-02         68.0            0.0      61.0   \n",
       "\n",
       "  Condition  Pressure  Visibility WindDirection  WindSpeed  DEMAND  \n",
       "0       CLR     29.94        10.0          Calm        0.0  1282.0  \n",
       "1       CLR     29.94        10.0      Variable        3.0  1277.0  \n",
       "2       CLR     29.95        10.0         North        3.0  1226.0  \n",
       "3       CLR     29.96        10.0          Calm        0.0  1186.0  \n",
       "4       CLR     29.97        10.0          West        3.0  1157.0  "
      ]
     },
     "execution_count": 18,
     "metadata": {},
     "output_type": "execute_result"
    }
   ],
   "source": [
    "df.head()"
   ]
  },
  {
   "cell_type": "code",
   "execution_count": 19,
   "id": "driven-walter",
   "metadata": {},
   "outputs": [],
   "source": [
    "with open(\"seattle_data.pkl\", 'wb') as picklefile:\n",
    "    pickle.dump(df, picklefile)"
   ]
  }
 ],
 "metadata": {
  "kernelspec": {
   "display_name": "Python [conda env:metis] *",
   "language": "python",
   "name": "conda-env-metis-py"
  },
  "language_info": {
   "codemirror_mode": {
    "name": "ipython",
    "version": 3
   },
   "file_extension": ".py",
   "mimetype": "text/x-python",
   "name": "python",
   "nbconvert_exporter": "python",
   "pygments_lexer": "ipython3",
   "version": "3.8.6"
  }
 },
 "nbformat": 4,
 "nbformat_minor": 5
}
