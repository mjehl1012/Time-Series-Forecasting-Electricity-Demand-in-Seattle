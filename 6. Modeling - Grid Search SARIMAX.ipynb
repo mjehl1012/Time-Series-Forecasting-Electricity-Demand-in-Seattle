{
 "cells": [
  {
   "cell_type": "markdown",
   "id": "loaded-stomach",
   "metadata": {},
   "source": [
    "## Grid Search operation takes a long time. This code was originally part of a different notebook, and I cleared the outputs of that notebook. You will notice many unrun cells below."
   ]
  },
  {
   "cell_type": "code",
   "execution_count": 1,
   "id": "chronic-olive",
   "metadata": {},
   "outputs": [],
   "source": [
    "import pandas as pd\n",
    "import numpy as np\n",
    "\n",
    "from statsmodels.tsa.statespace.sarimax import SARIMAX\n",
    "\n",
    "from pandas import read_csv\n",
    "import pickle\n",
    "\n",
    "from itertools import product\n",
    "from tqdm import tqdm_notebook\n",
    "\n",
    "from utilities import optimizeSARIMA"
   ]
  },
  {
   "cell_type": "code",
   "execution_count": null,
   "id": "applied-voice",
   "metadata": {},
   "outputs": [],
   "source": [
    "# setting initial values and some bounds for them\n",
    "ps = range(1, 3)\n",
    "d=1 \n",
    "qs = range(0, 2)\n",
    "Ps = range(0, 2)\n",
    "D=1\n",
    "Qs = range(0, 2)\n",
    "s = 24 # season length is still 24\n",
    "\n",
    "# creating list with all the possible combinations of parameters\n",
    "parameters = product(ps, qs, Ps, Qs)\n",
    "parameters_list = list(parameters)\n",
    "len(parameters_list)"
   ]
  },
  {
   "cell_type": "code",
   "execution_count": null,
   "id": "younger-mercury",
   "metadata": {},
   "outputs": [],
   "source": [
    "%%time\n",
    "result_table = optimizeSARIMA(parameters_list, d, D, s)"
   ]
  },
  {
   "cell_type": "code",
   "execution_count": null,
   "id": "floppy-hollow",
   "metadata": {},
   "outputs": [],
   "source": [
    "result_table[:3]"
   ]
  },
  {
   "cell_type": "code",
   "execution_count": null,
   "id": "traditional-shower",
   "metadata": {},
   "outputs": [],
   "source": [
    "# set the parameters that give the lowest AIC\n",
    "p, q, P, Q = result_table.parameters[0]\n",
    "\n",
    "best_model=sm.tsa.statespace.SARIMAX(df.DEMAND, order=(p, d, q), \n",
    "                                        seasonal_order=(P, D, Q, s)).fit(disp=-1)\n",
    "print(best_model.summary())"
   ]
  },
  {
   "cell_type": "markdown",
   "id": "guilty-departure",
   "metadata": {},
   "source": [
    "### Inspect the residuals of the model with lowest AIC: SARIMAX(2,1,1)(1,1,1)24"
   ]
  },
  {
   "cell_type": "code",
   "execution_count": null,
   "id": "micro-planning",
   "metadata": {},
   "outputs": [],
   "source": [
    "tsplot(best_model.resid[24+1:], lags=60)"
   ]
  }
 ],
 "metadata": {
  "kernelspec": {
   "display_name": "Python [conda env:metis] *",
   "language": "python",
   "name": "conda-env-metis-py"
  },
  "language_info": {
   "codemirror_mode": {
    "name": "ipython",
    "version": 3
   },
   "file_extension": ".py",
   "mimetype": "text/x-python",
   "name": "python",
   "nbconvert_exporter": "python",
   "pygments_lexer": "ipython3",
   "version": "3.8.6"
  }
 },
 "nbformat": 4,
 "nbformat_minor": 5
}
